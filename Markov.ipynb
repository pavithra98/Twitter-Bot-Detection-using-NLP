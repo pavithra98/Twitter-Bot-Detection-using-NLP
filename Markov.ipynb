{
 "cells": [
  {
   "cell_type": "markdown",
   "metadata": {},
   "source": [
    "# Using MarkovChain to generate sentences\n",
    "\n",
    "Markov chains can “generate” a word B from a word A, if and only if B followed A at least once during training. \n",
    "Moreover, B is picked from a list of candidates which is sorted by occurrence, and thus, by probability. \n",
    "A dash of randomness is then added to spice things up a little bit and to (try to) prevent loops, but this is mostly a solution to the problem of not having a large enough data set.\n",
    "\n",
    "So, the first implementation detail about Markov chains is learning. A corpus of text should enter our black box and a horizontal tree, where each word is a branch, should come out. Leaves are represented by all the words related to a particular branch, and their “size” depends on their relative frequency.\n",
    "\n",
    "\n",
    "\n",
    "References:\n",
    "https://medium.com/@G3Kappa/writing-a-weight-adjustable-markov-chain-based-text-generator-in-python-9bbde6437fb4"
   ]
  },
  {
   "cell_type": "code",
   "execution_count": 3,
   "metadata": {
    "collapsed": false,
    "scrolled": false
   },
   "outputs": [
    {
     "name": "stdout",
     "output_type": "stream",
     "text": [
      "Successfully trained on \"C:\\Users\\Mit\\Desktop\\RUTU\\DSP\\Untitled Folder\\test.txt\". [ENCODING: utf-8]\n",
      "\n",
      "Successfully trained on 1 files.\n",
      "<markovchain.MarkovChain object at 0x00000072C19C8F98>\n",
      "Generating a sentence of max. 15 words, starting with \"in\":\n",
      "\n",
      "In a great cause#apple#iphone8 \n",
      "Generating a sentence of max. 15 words, starting with \"camera\":\n",
      "\n",
      "Camera clicks amazing pictures#iphonex#iphone cameras on these \n",
      "models are among the best oled display#iphone8 #iphonex \n",
      "Generating a sentence of max. 15 words, starting with \"phenomenal\":\n",
      "\n",
      "Phenomenal screen, and screen#iphone8#iphonered love the best \n",
      "oled display#iphone8 #iphonex love the best you can \n",
      "Generating a sentence of max. 15 words, starting with \"helps\":\n",
      "\n",
      "Helps support a phenomenal screen, and have you can find in \n",
      "a phenomenal screen, and \n",
      "Generating a sentence of max. 15 words, starting with \"to\":\n",
      "\n",
      "To start the best you can find in a phenomenal screen, and have \n",
      "you seen \n",
      "Generating a sentence of max. 15 words, starting with \"off\":\n",
      "\n",
      "Off the best you can find in a phenomenal screen, and screen#iphone8#iphonered \n",
      "love the red \n",
      "Generating a sentence of max. 15 words, starting with \"right\":\n",
      "\n",
      "Right now#ios#iphone good way to start the charts cool#iphone8 \n",
      "and have you seen the best \n",
      "Generating a sentence of max. 15 words, starting with \"cool#iphone8\":\n",
      "\n",
      "Cool#iphone8 and screen#iphone8#iphonered love the charts cool#iphone8 \n",
      "and have you can find in a smartphone \n",
      "Generating a sentence of max. 15 words, starting with \"smartphone\":\n",
      "\n",
      "Smartphone right now#ios#iphone good way to start the battery \n",
      "life and it helps support a \n"
     ]
    }
   ],
   "source": [
    "from markovchain import *\n",
    "from training_algorithms import *\n",
    "\n",
    "# Builds a formatted string from the generator\n",
    "def gen(m):\n",
    "    return ''.join([w for w in m.generate_formatted(word_wrap=60, soft_wrap=True, start_with=None, max_len=15, verbose=True)])\n",
    "\n",
    "# Initialize the chain and train it on a few of the bot posted corpus of words.\n",
    "mkv = MarkovChain()\n",
    "#we use this file as an input. File contains sample sentences that we want the sentence generator to use. They help in training the \n",
    "#Morkov chains\n",
    "mkv.bulk_train('C:\\\\Users\\\\Mit\\\\Desktop\\\\RUTU\\\\DSP\\\\Untitled Folder\\\\test.txt', verbose=True)\n",
    "\n",
    "# Print a sample output after all weights have been adjusted.\n",
    "for i in range(1,10):\n",
    "    print(gen(mkv))"
   ]
  },
  {
   "cell_type": "code",
   "execution_count": null,
   "metadata": {
    "collapsed": false
   },
   "outputs": [],
   "source": []
  },
  {
   "cell_type": "code",
   "execution_count": null,
   "metadata": {
    "collapsed": true
   },
   "outputs": [],
   "source": []
  }
 ],
 "metadata": {
  "kernelspec": {
   "display_name": "Python 3",
   "language": "python",
   "name": "python3"
  },
  "language_info": {
   "codemirror_mode": {
    "name": "ipython",
    "version": 3
   },
   "file_extension": ".py",
   "mimetype": "text/x-python",
   "name": "python",
   "nbconvert_exporter": "python",
   "pygments_lexer": "ipython3",
   "version": "3.5.4"
  }
 },
 "nbformat": 4,
 "nbformat_minor": 0
}
