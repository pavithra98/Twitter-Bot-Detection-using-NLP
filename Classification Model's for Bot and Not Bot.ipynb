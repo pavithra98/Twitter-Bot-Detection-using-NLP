{
 "cells": [
  {
   "cell_type": "markdown",
   "metadata": {},
   "source": [
    "# CLASSIFICATION MODELS"
   ]
  },
  {
   "cell_type": "code",
   "execution_count": 1,
   "metadata": {
    "collapsed": true
   },
   "outputs": [],
   "source": [
    "##Support Vector Machine for classification a Bot or Not!!!"
   ]
  },
  {
   "cell_type": "code",
   "execution_count": 2,
   "metadata": {
    "collapsed": true
   },
   "outputs": [],
   "source": [
    "import pandas as pd #importing the pandas package"
   ]
  },
  {
   "cell_type": "code",
   "execution_count": 3,
   "metadata": {
    "collapsed": true
   },
   "outputs": [],
   "source": [
    "import numpy as np #importing the numpy package"
   ]
  },
  {
   "cell_type": "code",
   "execution_count": 4,
   "metadata": {
    "collapsed": true
   },
   "outputs": [],
   "source": [
    "import matplotlib.pyplot as plt #importing the matplotlib package"
   ]
  },
  {
   "cell_type": "code",
   "execution_count": 5,
   "metadata": {
    "collapsed": true
   },
   "outputs": [],
   "source": [
    "import seaborn as sb #importing the seaborn package"
   ]
  },
  {
   "cell_type": "code",
   "execution_count": 6,
   "metadata": {
    "collapsed": true
   },
   "outputs": [],
   "source": [
    "%matplotlib inline"
   ]
  },
  {
   "cell_type": "code",
   "execution_count": 7,
   "metadata": {
    "collapsed": true
   },
   "outputs": [],
   "source": [
    "data = pd.read_csv(\"C:/Users/tanuj/Desktop/Subjects/DSP/Project_NEW/output.csv\",encoding=\"ISO-8859-1\") #reading the dataset"
   ]
  },
  {
   "cell_type": "code",
   "execution_count": 8,
   "metadata": {
    "collapsed": false
   },
   "outputs": [
    {
     "data": {
      "text/html": [
       "<div>\n",
       "<style>\n",
       "    .dataframe thead tr:only-child th {\n",
       "        text-align: right;\n",
       "    }\n",
       "\n",
       "    .dataframe thead th {\n",
       "        text-align: left;\n",
       "    }\n",
       "\n",
       "    .dataframe tbody tr th {\n",
       "        vertical-align: top;\n",
       "    }\n",
       "</style>\n",
       "<table border=\"1\" class=\"dataframe\">\n",
       "  <thead>\n",
       "    <tr style=\"text-align: right;\">\n",
       "      <th></th>\n",
       "      <th>id</th>\n",
       "      <th>created_at</th>\n",
       "      <th>user_screen_name</th>\n",
       "      <th>user_followers_count</th>\n",
       "      <th>user_location</th>\n",
       "      <th>user_verified</th>\n",
       "      <th>user_friends_count</th>\n",
       "      <th>user_listed_count</th>\n",
       "      <th>user_favourites_count</th>\n",
       "      <th>user_statuses_count</th>\n",
       "      <th>user_geo_enabled</th>\n",
       "      <th>Hashtags</th>\n",
       "      <th>text</th>\n",
       "      <th>Sentiment</th>\n",
       "      <th>SentimentClass</th>\n",
       "      <th>Bot_or_NoBot</th>\n",
       "    </tr>\n",
       "  </thead>\n",
       "  <tbody>\n",
       "    <tr>\n",
       "      <th>0</th>\n",
       "      <td>9.900000e+17</td>\n",
       "      <td>29-04-18 3:26</td>\n",
       "      <td>amith97ba</td>\n",
       "      <td>270</td>\n",
       "      <td>Bangalore, India</td>\n",
       "      <td>False</td>\n",
       "      <td>760</td>\n",
       "      <td>2</td>\n",
       "      <td>9417</td>\n",
       "      <td>11619</td>\n",
       "      <td>False</td>\n",
       "      <td>[]</td>\n",
       "      <td>@airtelindia All your problems to watch Ipl ma...</td>\n",
       "      <td>0.0</td>\n",
       "      <td>Neutral</td>\n",
       "      <td>Bot</td>\n",
       "    </tr>\n",
       "    <tr>\n",
       "      <th>1</th>\n",
       "      <td>9.900000e+17</td>\n",
       "      <td>29-04-18 3:23</td>\n",
       "      <td>ZackREX3</td>\n",
       "      <td>7</td>\n",
       "      <td>New Delhi, India</td>\n",
       "      <td>False</td>\n",
       "      <td>33</td>\n",
       "      <td>0</td>\n",
       "      <td>1203</td>\n",
       "      <td>380</td>\n",
       "      <td>False</td>\n",
       "      <td>[{'indices': [16, 24], 'text': 'iphone8'}, {'i...</td>\n",
       "      <td>@geekyranjit Is #iphone8 or samsung #s8 worth ...</td>\n",
       "      <td>0.3</td>\n",
       "      <td>Positive</td>\n",
       "      <td>NoBot</td>\n",
       "    </tr>\n",
       "    <tr>\n",
       "      <th>2</th>\n",
       "      <td>9.900000e+17</td>\n",
       "      <td>29-04-18 3:17</td>\n",
       "      <td>daichi1SOL</td>\n",
       "      <td>471</td>\n",
       "      <td>NaN</td>\n",
       "      <td>False</td>\n",
       "      <td>442</td>\n",
       "      <td>1</td>\n",
       "      <td>2091</td>\n",
       "      <td>1199</td>\n",
       "      <td>True</td>\n",
       "      <td>[]</td>\n",
       "      <td>RT @daichi1SOL: iPhone8ð±â¦ï¸coolððð</td>\n",
       "      <td>0.0</td>\n",
       "      <td>Neutral</td>\n",
       "      <td>NoBot</td>\n",
       "    </tr>\n",
       "    <tr>\n",
       "      <th>3</th>\n",
       "      <td>9.900000e+17</td>\n",
       "      <td>29-04-18 3:17</td>\n",
       "      <td>ayarie1003</td>\n",
       "      <td>264</td>\n",
       "      <td>NaN</td>\n",
       "      <td>False</td>\n",
       "      <td>251</td>\n",
       "      <td>2</td>\n",
       "      <td>2479</td>\n",
       "      <td>1039</td>\n",
       "      <td>False</td>\n",
       "      <td>[]</td>\n",
       "      <td>@M1jgHuCuFqpzt2S iPhone8</td>\n",
       "      <td>0.0</td>\n",
       "      <td>Neutral</td>\n",
       "      <td>NoBot</td>\n",
       "    </tr>\n",
       "    <tr>\n",
       "      <th>4</th>\n",
       "      <td>9.900000e+17</td>\n",
       "      <td>29-04-18 3:15</td>\n",
       "      <td>9_arashi_11</td>\n",
       "      <td>1108</td>\n",
       "      <td>NaN</td>\n",
       "      <td>False</td>\n",
       "      <td>250</td>\n",
       "      <td>69</td>\n",
       "      <td>23392</td>\n",
       "      <td>6028</td>\n",
       "      <td>False</td>\n",
       "      <td>[]</td>\n",
       "      <td>@aiba___nicchi iPhone8</td>\n",
       "      <td>0.0</td>\n",
       "      <td>Neutral</td>\n",
       "      <td>NoBot</td>\n",
       "    </tr>\n",
       "  </tbody>\n",
       "</table>\n",
       "</div>"
      ],
      "text/plain": [
       "             id     created_at user_screen_name  user_followers_count  \\\n",
       "0  9.900000e+17  29-04-18 3:26        amith97ba                   270   \n",
       "1  9.900000e+17  29-04-18 3:23         ZackREX3                     7   \n",
       "2  9.900000e+17  29-04-18 3:17       daichi1SOL                   471   \n",
       "3  9.900000e+17  29-04-18 3:17       ayarie1003                   264   \n",
       "4  9.900000e+17  29-04-18 3:15      9_arashi_11                  1108   \n",
       "\n",
       "      user_location  user_verified  user_friends_count  user_listed_count  \\\n",
       "0  Bangalore, India          False                 760                  2   \n",
       "1  New Delhi, India          False                  33                  0   \n",
       "2               NaN          False                 442                  1   \n",
       "3               NaN          False                 251                  2   \n",
       "4               NaN          False                 250                 69   \n",
       "\n",
       "   user_favourites_count  user_statuses_count  user_geo_enabled  \\\n",
       "0                   9417                11619             False   \n",
       "1                   1203                  380             False   \n",
       "2                   2091                 1199              True   \n",
       "3                   2479                 1039             False   \n",
       "4                  23392                 6028             False   \n",
       "\n",
       "                                            Hashtags  \\\n",
       "0                                                 []   \n",
       "1  [{'indices': [16, 24], 'text': 'iphone8'}, {'i...   \n",
       "2                                                 []   \n",
       "3                                                 []   \n",
       "4                                                 []   \n",
       "\n",
       "                                                text  Sentiment  \\\n",
       "0  @airtelindia All your problems to watch Ipl ma...        0.0   \n",
       "1  @geekyranjit Is #iphone8 or samsung #s8 worth ...        0.3   \n",
       "2  RT @daichi1SOL: iPhone8ð±â¦ï¸coolððð        0.0   \n",
       "3                           @M1jgHuCuFqpzt2S iPhone8        0.0   \n",
       "4                             @aiba___nicchi iPhone8        0.0   \n",
       "\n",
       "  SentimentClass Bot_or_NoBot  \n",
       "0        Neutral          Bot  \n",
       "1       Positive        NoBot  \n",
       "2        Neutral        NoBot  \n",
       "3        Neutral        NoBot  \n",
       "4        Neutral        NoBot  "
      ]
     },
     "execution_count": 8,
     "metadata": {},
     "output_type": "execute_result"
    }
   ],
   "source": [
    "data.head()"
   ]
  },
  {
   "cell_type": "code",
   "execution_count": 9,
   "metadata": {
    "collapsed": false
   },
   "outputs": [
    {
     "data": {
      "text/plain": [
       "(1035, 16)"
      ]
     },
     "execution_count": 9,
     "metadata": {},
     "output_type": "execute_result"
    }
   ],
   "source": [
    "data.shape"
   ]
  },
  {
   "cell_type": "code",
   "execution_count": 10,
   "metadata": {
    "collapsed": false
   },
   "outputs": [
    {
     "name": "stdout",
     "output_type": "stream",
     "text": [
      "<class 'pandas.core.frame.DataFrame'>\n",
      "RangeIndex: 1035 entries, 0 to 1034\n",
      "Data columns (total 16 columns):\n",
      "id                       1035 non-null float64\n",
      "created_at               1035 non-null object\n",
      "user_screen_name         1035 non-null object\n",
      "user_followers_count     1035 non-null int64\n",
      "user_location            802 non-null object\n",
      "user_verified            1035 non-null bool\n",
      "user_friends_count       1035 non-null int64\n",
      "user_listed_count        1035 non-null int64\n",
      "user_favourites_count    1035 non-null int64\n",
      "user_statuses_count      1035 non-null int64\n",
      "user_geo_enabled         1035 non-null bool\n",
      "Hashtags                 1035 non-null object\n",
      "text                     1035 non-null object\n",
      "Sentiment                1035 non-null float64\n",
      "SentimentClass           1035 non-null object\n",
      "Bot_or_NoBot             1035 non-null object\n",
      "dtypes: bool(2), float64(2), int64(5), object(7)\n",
      "memory usage: 115.3+ KB\n"
     ]
    }
   ],
   "source": [
    "data.info() #To Find Missing Values"
   ]
  },
  {
   "cell_type": "code",
   "execution_count": 11,
   "metadata": {
    "collapsed": false
   },
   "outputs": [
    {
     "data": {
      "text/plain": [
       "<matplotlib.axes._subplots.AxesSubplot at 0x155f95e46a0>"
      ]
     },
     "execution_count": 11,
     "metadata": {},
     "output_type": "execute_result"
    },
    {
     "data": {
      "image/png": "[encoded data removed]",
      "text/plain": [
       "<matplotlib.figure.Figure at 0x155f95e44e0>"
      ]
     },
     "metadata": {},
     "output_type": "display_data"
    }
   ],
   "source": [
    "plt.figure(figsize=(14,10))\n",
    "plt.xticks(rotation=90)\n",
    "sb.boxplot(x='user_followers_count', y='Bot_or_NoBot', data=data)"
   ]
  },
  {
   "cell_type": "code",
   "execution_count": 12,
   "metadata": {
    "collapsed": true
   },
   "outputs": [],
   "source": [
    "select_cols = [\"user_followers_count\",\"user_verified\",\"user_friends_count\",\"user_listed_count\",\"user_favourites_count\",\"user_statuses_count\",\"user_geo_enabled\"]"
   ]
  },
  {
   "cell_type": "code",
   "execution_count": 13,
   "metadata": {
    "collapsed": true
   },
   "outputs": [],
   "source": [
    "x = data[select_cols] #Selcting the x Variables"
   ]
  },
  {
   "cell_type": "code",
   "execution_count": 14,
   "metadata": {
    "collapsed": true
   },
   "outputs": [],
   "source": [
    "y = data.Bot_or_NoBot #Selecting the Y Varible or Target Variable"
   ]
  },
  {
   "cell_type": "code",
   "execution_count": 15,
   "metadata": {
    "collapsed": true
   },
   "outputs": [],
   "source": [
    "from sklearn.model_selection import train_test_split  #Importing the train and test function"
   ]
  },
  {
   "cell_type": "code",
   "execution_count": 16,
   "metadata": {
    "collapsed": true
   },
   "outputs": [],
   "source": [
    "x_train,x_test,y_train,y_test = train_test_split(x,y,test_size=0.3,random_state=36) #Splitting the data"
   ]
  },
  {
   "cell_type": "code",
   "execution_count": 17,
   "metadata": {
    "collapsed": true
   },
   "outputs": [],
   "source": [
    "from sklearn import svm # To fit the svm classifier\n"
   ]
  },
  {
   "cell_type": "code",
   "execution_count": 18,
   "metadata": {
    "collapsed": true
   },
   "outputs": [],
   "source": [
    "C = 1.0  # SVM regularization parameter\n",
    " \n",
    "# SVC with linear kernel\n",
    "svc = svm.SVC(kernel='rbf',C=C,cache_size=400,degree=4 )\n"
   ]
  },
  {
   "cell_type": "code",
   "execution_count": 19,
   "metadata": {
    "collapsed": false
   },
   "outputs": [
    {
     "data": {
      "text/plain": [
       "SVC(C=1.0, cache_size=400, class_weight=None, coef0=0.0,\n",
       "  decision_function_shape='ovr', degree=4, gamma='auto', kernel='rbf',\n",
       "  max_iter=-1, probability=False, random_state=None, shrinking=True,\n",
       "  tol=0.001, verbose=False)"
      ]
     },
     "execution_count": 19,
     "metadata": {},
     "output_type": "execute_result"
    }
   ],
   "source": [
    "svc.fit(x_train, y_train) #Fitting the model on train data"
   ]
  },
  {
   "cell_type": "code",
   "execution_count": 20,
   "metadata": {
    "collapsed": true
   },
   "outputs": [],
   "source": [
    "y_pred = svc.predict(x_test) #Predict on test data"
   ]
  },
  {
   "cell_type": "code",
   "execution_count": 21,
   "metadata": {
    "collapsed": true
   },
   "outputs": [],
   "source": [
    "from sklearn.metrics import confusion_matrix,classification_report,accuracy_score "
   ]
  },
  {
   "cell_type": "code",
   "execution_count": 22,
   "metadata": {
    "collapsed": true
   },
   "outputs": [],
   "source": [
    "cm = confusion_matrix(y_test,y_pred)#creating the confusion matrix"
   ]
  },
  {
   "cell_type": "code",
   "execution_count": 23,
   "metadata": {
    "collapsed": false
   },
   "outputs": [
    {
     "data": {
      "text/plain": [
       "array([[ 57,  94],\n",
       "       [ 11, 149]], dtype=int64)"
      ]
     },
     "execution_count": 23,
     "metadata": {},
     "output_type": "execute_result"
    }
   ],
   "source": [
    "cm"
   ]
  },
  {
   "cell_type": "code",
   "execution_count": 24,
   "metadata": {
    "collapsed": false
   },
   "outputs": [
    {
     "name": "stdout",
     "output_type": "stream",
     "text": [
      "             precision    recall  f1-score   support\n",
      "\n",
      "        Bot       0.84      0.38      0.52       151\n",
      "      NoBot       0.61      0.93      0.74       160\n",
      "\n",
      "avg / total       0.72      0.66      0.63       311\n",
      "\n"
     ]
    }
   ],
   "source": [
    "print(classification_report(y_test,y_pred)) #Printing the classification report"
   ]
  },
  {
   "cell_type": "code",
   "execution_count": 25,
   "metadata": {
    "collapsed": false
   },
   "outputs": [
    {
     "data": {
      "text/plain": [
       "0.662379421221865"
      ]
     },
     "execution_count": 25,
     "metadata": {},
     "output_type": "execute_result"
    }
   ],
   "source": [
    "accuracy_score(y_test,y_pred)  #Checking the accuracy of our model"
   ]
  },
  {
   "cell_type": "markdown",
   "metadata": {},
   "source": [
    "Hyper parameter optimization using Grid Search. \n",
    "Find the optimal value of 'C' which is to toggle between the hard margin or soft margin classifier.\n",
    "Adjusting the Kernel and trying to find the best kernel which will work forour model.\n",
    "Fine tunning the gamma and epsilon value for the data.\n",
    "\n",
    "#Gamma\n",
    "Intuitively, the gamma parameter defines how far the influence of a single training example reaches, with low values meaning ‘far’ and high values meaning ‘close’. The gamma parameters can be seen as the inverse of the radius of influence of samples selected by the model as support vectors.\n",
    "\n",
    "Kernel coefficient for ‘rbf’, ‘poly’ and ‘sigmoid’. If gamma is ‘auto’ then 1/n_features will be used instead\n",
    "\n",
    "#Epsilon (default = 0.1)\n",
    "Epsilon in the epsilon-SVR model. It specifies the epsilon-tube within which no penalty is associated in the training loss function with points predicted within a distance epsilon from the actual value."
   ]
  },
  {
   "cell_type": "markdown",
   "metadata": {},
   "source": [
    "## Random Forest Classifier"
   ]
  },
  {
   "cell_type": "code",
   "execution_count": 28,
   "metadata": {
    "collapsed": true
   },
   "outputs": [],
   "source": [
    "from sklearn.ensemble import RandomForestClassifier"
   ]
  },
  {
   "cell_type": "code",
   "execution_count": 130,
   "metadata": {
    "collapsed": true
   },
   "outputs": [],
   "source": [
    "rfTree = RandomForestClassifier(bootstrap = 'True', criterion= 'gini',max_depth= 4, max_features= 7, min_samples_leaf= 3, min_samples_split= 10)\n"
   ]
  },
  {
   "cell_type": "code",
   "execution_count": 131,
   "metadata": {
    "collapsed": false
   },
   "outputs": [
    {
     "data": {
      "text/plain": [
       "RandomForestClassifier(bootstrap='True', class_weight=None, criterion='gini',\n",
       "            max_depth=4, max_features=7, max_leaf_nodes=None,\n",
       "            min_impurity_decrease=0.0, min_impurity_split=None,\n",
       "            min_samples_leaf=3, min_samples_split=10,\n",
       "            min_weight_fraction_leaf=0.0, n_estimators=10, n_jobs=1,\n",
       "            oob_score=False, random_state=None, verbose=0,\n",
       "            warm_start=False)"
      ]
     },
     "execution_count": 131,
     "metadata": {},
     "output_type": "execute_result"
    }
   ],
   "source": [
    "rfTree.fit(x_train,y_train)"
   ]
  },
  {
   "cell_type": "code",
   "execution_count": 132,
   "metadata": {
    "collapsed": true
   },
   "outputs": [],
   "source": [
    "y_pred = rfTree.predict(x_test)"
   ]
  },
  {
   "cell_type": "code",
   "execution_count": 133,
   "metadata": {
    "collapsed": true
   },
   "outputs": [],
   "source": [
    "cm = confusion_matrix(y_test,y_pred)\n"
   ]
  },
  {
   "cell_type": "code",
   "execution_count": 134,
   "metadata": {
    "collapsed": false
   },
   "outputs": [
    {
     "data": {
      "text/plain": [
       "array([[ 68,  83],\n",
       "       [ 29, 131]], dtype=int64)"
      ]
     },
     "execution_count": 134,
     "metadata": {},
     "output_type": "execute_result"
    }
   ],
   "source": [
    "cm"
   ]
  },
  {
   "cell_type": "code",
   "execution_count": 135,
   "metadata": {
    "collapsed": false
   },
   "outputs": [
    {
     "name": "stdout",
     "output_type": "stream",
     "text": [
      "             precision    recall  f1-score   support\n",
      "\n",
      "        Bot       0.70      0.45      0.55       151\n",
      "      NoBot       0.61      0.82      0.70       160\n",
      "\n",
      "avg / total       0.66      0.64      0.63       311\n",
      "\n"
     ]
    }
   ],
   "source": [
    "print(classification_report(y_test,y_pred))"
   ]
  },
  {
   "cell_type": "code",
   "execution_count": 136,
   "metadata": {
    "collapsed": false
   },
   "outputs": [
    {
     "data": {
      "text/plain": [
       "0.639871382636656"
      ]
     },
     "execution_count": 136,
     "metadata": {},
     "output_type": "execute_result"
    }
   ],
   "source": [
    "accuracy_score(y_test,y_pred)"
   ]
  },
  {
   "cell_type": "code",
   "execution_count": 41,
   "metadata": {
    "collapsed": true
   },
   "outputs": [],
   "source": [
    "#Hyper paramater optimization of Random Forest Regressor\n"
   ]
  },
  {
   "cell_type": "code",
   "execution_count": 161,
   "metadata": {
    "collapsed": true
   },
   "outputs": [],
   "source": [
    "from sklearn.model_selection import GridSearchCV , RandomizedSearchCV\n",
    "from time import time"
   ]
  },
  {
   "cell_type": "code",
   "execution_count": 111,
   "metadata": {
    "collapsed": true
   },
   "outputs": [],
   "source": [
    "#Refered from below link \" http://scikit-learn.org/stable/auto_examples/model_selection/plot_randomized_search.html\"\n",
    "# use a full grid over all parameters\n",
    "param_grid = {\"max_depth\": [3,4,5],\n",
    "              \"max_features\": [1, 3, 7],\n",
    "              \"min_samples_split\": [2, 3, 10],\n",
    "              \"min_samples_leaf\": [1, 3, 10],\n",
    "              \"bootstrap\": [True, False],\n",
    "              \"criterion\": [\"gini\", \"entropy\"]}"
   ]
  },
  {
   "cell_type": "code",
   "execution_count": 112,
   "metadata": {
    "collapsed": false
   },
   "outputs": [
    {
     "data": {
      "text/plain": [
       "GridSearchCV(cv=None, error_score='raise',\n",
       "       estimator=RandomForestClassifier(bootstrap=True, class_weight=None, criterion='gini',\n",
       "            max_depth=5, max_features='auto', max_leaf_nodes=None,\n",
       "            min_impurity_decrease=0.0, min_impurity_split=None,\n",
       "            min_samples_leaf=1, min_samples_split=2,\n",
       "            min_weight_fraction_leaf=0.0, n_estimators=10, n_jobs=1,\n",
       "            oob_score=False, random_state=None, verbose=0,\n",
       "            warm_start=False),\n",
       "       fit_params=None, iid=True, n_jobs=1,\n",
       "       param_grid={'max_depth': [3, 4, 5], 'max_features': [1, 3, 7], 'min_samples_split': [2, 3, 10], 'min_samples_leaf': [1, 3, 10], 'bootstrap': [True, False], 'criterion': ['gini', 'entropy']},\n",
       "       pre_dispatch='2*n_jobs', refit=True, return_train_score='warn',\n",
       "       scoring=None, verbose=0)"
      ]
     },
     "execution_count": 112,
     "metadata": {},
     "output_type": "execute_result"
    }
   ],
   "source": [
    "# run grid search\n",
    "grid_search = GridSearchCV(rfTree, param_grid=param_grid)\n",
    "start = time()\n",
    "grid_search.fit(x_train, y_train)"
   ]
  },
  {
   "cell_type": "code",
   "execution_count": 113,
   "metadata": {
    "collapsed": false
   },
   "outputs": [
    {
     "name": "stdout",
     "output_type": "stream",
     "text": [
      "GridSearchCV took 72.96 seconds for 324 candidate parameter settings.\n",
      "Model with rank: 1\n",
      "Mean validation score: 0.684 (std: 0.021)\n",
      "Parameters: {'bootstrap': True, 'criterion': 'gini', 'max_depth': 4, 'max_features': 7, 'min_samples_leaf': 3, 'min_samples_split': 10}\n",
      "\n",
      "Model with rank: 2\n",
      "Mean validation score: 0.681 (std: 0.018)\n",
      "Parameters: {'bootstrap': True, 'criterion': 'entropy', 'max_depth': 5, 'max_features': 1, 'min_samples_leaf': 1, 'min_samples_split': 3}\n",
      "\n",
      "Model with rank: 2\n",
      "Mean validation score: 0.681 (std: 0.016)\n",
      "Parameters: {'bootstrap': True, 'criterion': 'entropy', 'max_depth': 5, 'max_features': 7, 'min_samples_leaf': 10, 'min_samples_split': 3}\n",
      "\n",
      "Model with rank: 2\n",
      "Mean validation score: 0.681 (std: 0.014)\n",
      "Parameters: {'bootstrap': False, 'criterion': 'gini', 'max_depth': 5, 'max_features': 3, 'min_samples_leaf': 1, 'min_samples_split': 2}\n",
      "\n"
     ]
    }
   ],
   "source": [
    "print(\"GridSearchCV took %.2f seconds for %d candidate parameter settings.\"\n",
    "      % (time() - start, len(grid_search.cv_results_['params'])))\n",
    "report(grid_search.cv_results_)"
   ]
  },
  {
   "cell_type": "code",
   "execution_count": 99,
   "metadata": {
    "collapsed": true
   },
   "outputs": [],
   "source": [
    "from time import time\n"
   ]
  },
  {
   "cell_type": "markdown",
   "metadata": {},
   "source": [
    "# Gradient Boosting Classifier"
   ]
  },
  {
   "cell_type": "code",
   "execution_count": 18,
   "metadata": {
    "collapsed": true
   },
   "outputs": [],
   "source": [
    "from sklearn.ensemble import GradientBoostingClassifier "
   ]
  },
  {
   "cell_type": "code",
   "execution_count": 28,
   "metadata": {
    "collapsed": true
   },
   "outputs": [],
   "source": [
    "XGB = GradientBoostingClassifier(max_depth=5,n_estimators=1000,learning_rate=0.01)\n"
   ]
  },
  {
   "cell_type": "code",
   "execution_count": 29,
   "metadata": {
    "collapsed": false
   },
   "outputs": [
    {
     "data": {
      "text/plain": [
       "GradientBoostingClassifier(criterion='friedman_mse', init=None,\n",
       "              learning_rate=0.01, loss='deviance', max_depth=5,\n",
       "              max_features=None, max_leaf_nodes=None,\n",
       "              min_impurity_decrease=0.0, min_impurity_split=None,\n",
       "              min_samples_leaf=1, min_samples_split=2,\n",
       "              min_weight_fraction_leaf=0.0, n_estimators=1000,\n",
       "              presort='auto', random_state=None, subsample=1.0, verbose=0,\n",
       "              warm_start=False)"
      ]
     },
     "execution_count": 29,
     "metadata": {},
     "output_type": "execute_result"
    }
   ],
   "source": [
    "XGB.fit(x_train,y_train)"
   ]
  },
  {
   "cell_type": "code",
   "execution_count": 30,
   "metadata": {
    "collapsed": true
   },
   "outputs": [],
   "source": [
    "y_pred = XGB.predict(x_test) #Predicting the values on test dataset"
   ]
  },
  {
   "cell_type": "code",
   "execution_count": 31,
   "metadata": {
    "collapsed": true
   },
   "outputs": [],
   "source": [
    "XBG_cm = confusion_matrix(y_test,y_pred) #calculating the confusion matrix"
   ]
  },
  {
   "cell_type": "code",
   "execution_count": 32,
   "metadata": {
    "collapsed": false
   },
   "outputs": [
    {
     "name": "stdout",
     "output_type": "stream",
     "text": [
      "[[ 98  53]\n",
      " [ 42 118]]\n"
     ]
    }
   ],
   "source": [
    "print(XBG_cm)"
   ]
  },
  {
   "cell_type": "code",
   "execution_count": 33,
   "metadata": {
    "collapsed": false
   },
   "outputs": [
    {
     "name": "stdout",
     "output_type": "stream",
     "text": [
      "             precision    recall  f1-score   support\n",
      "\n",
      "        Bot       0.70      0.65      0.67       151\n",
      "      NoBot       0.69      0.74      0.71       160\n",
      "\n",
      "avg / total       0.69      0.69      0.69       311\n",
      "\n"
     ]
    }
   ],
   "source": [
    "print(classification_report(y_test,y_pred)) #Printing the classification report"
   ]
  },
  {
   "cell_type": "code",
   "execution_count": 34,
   "metadata": {
    "collapsed": false
   },
   "outputs": [
    {
     "data": {
      "text/plain": [
       "0.6945337620578779"
      ]
     },
     "execution_count": 34,
     "metadata": {},
     "output_type": "execute_result"
    }
   ],
   "source": [
    "accuracy_score(y_test,y_pred) #Calculating the accuracy of model"
   ]
  },
  {
   "cell_type": "markdown",
   "metadata": {},
   "source": [
    "# NEURAL NETWORK"
   ]
  },
  {
   "cell_type": "code",
   "execution_count": 127,
   "metadata": {
    "collapsed": true
   },
   "outputs": [],
   "source": [
    "from sklearn.neural_network import MLPClassifier #Importing the Multi Layer Percepton Model"
   ]
  },
  {
   "cell_type": "markdown",
   "metadata": {},
   "source": [
    "Below code is refered from below links\n",
    "\n",
    "https://www.kaggle.com/hhllcks/neural-net-with-gridsearch\n",
    "\n",
    "http://scikit-neuralnetwork.readthedocs.io/en/latest/guide_sklearn.html\n"
   ]
  },
  {
   "cell_type": "code",
   "execution_count": 149,
   "metadata": {
    "collapsed": true
   },
   "outputs": [],
   "source": [
    "Neural_MLP = MLPClassifier(hidden_layer_sizes=(5,10,15),max_iter=5000,learning_rate_init=0.1,momentum=0.01,solver='adam')"
   ]
  },
  {
   "cell_type": "markdown",
   "metadata": {},
   "source": [
    "Have hyper parameter optimized the neural network.\n",
    "\n",
    "Kept the hidden layer sizer incremental increasing as we move to the next layer.\n",
    "\n",
    "Maximum iterations have kept it 5000 so as the model has enough iterations to learn.\n",
    "\n",
    "Kept the learning rate and momentum both small as it will reduce the errors.\n",
    "\n",
    "The method is adam which is a optimization method and is a mix of adaptive gradient descent and Root Mean Square Propogation."
   ]
  },
  {
   "cell_type": "code",
   "execution_count": 150,
   "metadata": {
    "collapsed": false
   },
   "outputs": [
    {
     "data": {
      "text/plain": [
       "MLPClassifier(activation='relu', alpha=0.0001, batch_size='auto', beta_1=0.9,\n",
       "       beta_2=0.999, early_stopping=False, epsilon=1e-08,\n",
       "       hidden_layer_sizes=(5, 10, 15), learning_rate='constant',\n",
       "       learning_rate_init=0.1, max_iter=5000, momentum=0.01,\n",
       "       nesterovs_momentum=True, power_t=0.5, random_state=None,\n",
       "       shuffle=True, solver='adam', tol=0.0001, validation_fraction=0.1,\n",
       "       verbose=False, warm_start=False)"
      ]
     },
     "execution_count": 150,
     "metadata": {},
     "output_type": "execute_result"
    }
   ],
   "source": [
    "Neural_MLP.fit(x_train,y_train) #Fitting the Model"
   ]
  },
  {
   "cell_type": "code",
   "execution_count": 151,
   "metadata": {
    "collapsed": true
   },
   "outputs": [],
   "source": [
    "y_pred = Neural_MLP.predict(x_test) #Predicting on Test DataSet"
   ]
  },
  {
   "cell_type": "code",
   "execution_count": 152,
   "metadata": {
    "collapsed": true
   },
   "outputs": [],
   "source": [
    "MLP_NN_cm = confusion_matrix(y_test,y_pred) #Confusion Matrix"
   ]
  },
  {
   "cell_type": "code",
   "execution_count": 153,
   "metadata": {
    "collapsed": false
   },
   "outputs": [
    {
     "data": {
      "text/plain": [
       "array([[ 52,  99],\n",
       "       [ 25, 135]], dtype=int64)"
      ]
     },
     "execution_count": 153,
     "metadata": {},
     "output_type": "execute_result"
    }
   ],
   "source": [
    "MLP_NN_cm"
   ]
  },
  {
   "cell_type": "code",
   "execution_count": 154,
   "metadata": {
    "collapsed": false
   },
   "outputs": [
    {
     "name": "stdout",
     "output_type": "stream",
     "text": [
      "             precision    recall  f1-score   support\n",
      "\n",
      "        Bot       0.68      0.34      0.46       151\n",
      "      NoBot       0.58      0.84      0.69       160\n",
      "\n",
      "avg / total       0.62      0.60      0.57       311\n",
      "\n"
     ]
    }
   ],
   "source": [
    "print(classification_report(y_test,y_pred))\n"
   ]
  },
  {
   "cell_type": "code",
   "execution_count": 155,
   "metadata": {
    "collapsed": false
   },
   "outputs": [
    {
     "data": {
      "text/plain": [
       "0.6012861736334405"
      ]
     },
     "execution_count": 155,
     "metadata": {},
     "output_type": "execute_result"
    }
   ],
   "source": [
    "accuracy_score(y_test,y_pred) #Calculating the accuracy of model"
   ]
  },
  {
   "cell_type": "markdown",
   "metadata": {},
   "source": [
    "## ADA BOOST CLASSIFIER"
   ]
  },
  {
   "cell_type": "code",
   "execution_count": 110,
   "metadata": {
    "collapsed": true
   },
   "outputs": [],
   "source": [
    "from sklearn.ensemble import AdaBoostClassifier\n",
    "from sklearn.tree import DecisionTreeClassifier\n"
   ]
  },
  {
   "cell_type": "markdown",
   "metadata": {},
   "source": [
    "## Hyper parameter Optimize the Adaboost decision tree classifier.\n",
    "Base_estimator = The base estimator from which the boosted ensemble is built. Support for sample weighting is required, as well as proper classes_ and n_classes_ attributes. Decision tree classifier which is also hyper parameter optimize to fit the requirements. \n",
    "\n",
    "Used Grid Search and hardcoded the parameters. \n",
    "Learning_rate = Learning rate shrinks the contribution of each classifier by learning_rate. There is a trade-off between learning_rate and n_estimators.\n",
    "\n",
    "Algorithm = If ‘SAMME.R’ then use the SAMME.R real boosting algorithm. base_estimator must support calculation of class probabilities. If ‘SAMME’ then use the SAMME discrete boosting algorithm. The SAMME.R algorithm typically converges faster than SAMME, achieving a lower test error with fewer boosting iterations.\n",
    "\n",
    "n_estimators = n_estimators : integer, optional (default=50)\n",
    "\n",
    "The maximum number of estimators at which boosting is terminated. In case of perfect fit, the learning procedure is stopped early.\n"
   ]
  },
  {
   "cell_type": "markdown",
   "metadata": {},
   "source": [
    "Below line of code is referred from below link.\n",
    "http://scikit-learn.org/stable/modules/generated/sklearn.ensemble.AdaBoostClassifier.html"
   ]
  },
  {
   "cell_type": "code",
   "execution_count": 120,
   "metadata": {
    "collapsed": true
   },
   "outputs": [],
   "source": [
    "# Create adaboost-decision tree classifer object\n",
    "\n",
    "ADABOOST = AdaBoostClassifier(algorithm='SAMME.R',\n",
    "          base_estimator=DecisionTreeClassifier( criterion='gini',\n",
    "            max_depth=4, max_features=None,\n",
    "            min_samples_leaf=1, min_samples_split=4, random_state=None),\n",
    "          learning_rate=0.1, n_estimators=1000)"
   ]
  },
  {
   "cell_type": "code",
   "execution_count": 121,
   "metadata": {
    "collapsed": false
   },
   "outputs": [
    {
     "data": {
      "text/plain": [
       "AdaBoostClassifier(algorithm='SAMME.R',\n",
       "          base_estimator=DecisionTreeClassifier(class_weight=None, criterion='gini', max_depth=4,\n",
       "            max_features=None, max_leaf_nodes=None,\n",
       "            min_impurity_decrease=0.0, min_impurity_split=None,\n",
       "            min_samples_leaf=1, min_samples_split=4,\n",
       "            min_weight_fraction_leaf=0.0, presort=False, random_state=None,\n",
       "            splitter='best'),\n",
       "          learning_rate=0.1, n_estimators=1000, random_state=None)"
      ]
     },
     "execution_count": 121,
     "metadata": {},
     "output_type": "execute_result"
    }
   ],
   "source": [
    "ADABOOST.fit(x_train,y_train) #Fitting the Model"
   ]
  },
  {
   "cell_type": "code",
   "execution_count": 122,
   "metadata": {
    "collapsed": true
   },
   "outputs": [],
   "source": [
    "y_pred = ADABOOST.predict(x_test) #Predicting on Test DataSet"
   ]
  },
  {
   "cell_type": "code",
   "execution_count": 123,
   "metadata": {
    "collapsed": true
   },
   "outputs": [],
   "source": [
    "ADABOOST_cm = confusion_matrix(y_test,y_pred) #calculating the confusion matrix"
   ]
  },
  {
   "cell_type": "code",
   "execution_count": 124,
   "metadata": {
    "collapsed": false
   },
   "outputs": [
    {
     "name": "stdout",
     "output_type": "stream",
     "text": [
      "[[ 97  54]\n",
      " [ 38 122]]\n"
     ]
    }
   ],
   "source": [
    "print(ADABOOST_cm)"
   ]
  },
  {
   "cell_type": "code",
   "execution_count": 125,
   "metadata": {
    "collapsed": false
   },
   "outputs": [
    {
     "name": "stdout",
     "output_type": "stream",
     "text": [
      "             precision    recall  f1-score   support\n",
      "\n",
      "        Bot       0.72      0.64      0.68       151\n",
      "      NoBot       0.69      0.76      0.73       160\n",
      "\n",
      "avg / total       0.71      0.70      0.70       311\n",
      "\n"
     ]
    }
   ],
   "source": [
    "print(classification_report(y_test,y_pred)) #Printing the classification report"
   ]
  },
  {
   "cell_type": "code",
   "execution_count": 126,
   "metadata": {
    "collapsed": false
   },
   "outputs": [
    {
     "data": {
      "text/plain": [
       "0.7041800643086816"
      ]
     },
     "execution_count": 126,
     "metadata": {},
     "output_type": "execute_result"
    }
   ],
   "source": [
    "accuracy_score(y_test,y_pred) #Calculating the accuracy of model"
   ]
  },
  {
   "cell_type": "markdown",
   "metadata": {},
   "source": [
    "# Bag of Words"
   ]
  },
  {
   "cell_type": "code",
   "execution_count": 18,
   "metadata": {
    "collapsed": true
   },
   "outputs": [],
   "source": [
    "import numpy as np\n",
    "import pandas as pd\n",
    "from sklearn.metrics import accuracy_score, roc_curve, auc\n",
    "\n",
    "class twitter_bot(object):\n",
    "    def __init__(self):\n",
    "        pass\n",
    "\n",
    "    def perform_train_test_split(df):\n",
    "        msk = np.random.rand(len(df)) < 0.75\n",
    "        train, test = df[msk], df[~msk]\n",
    "        X_train, y_train = train, train.ix[:,-1]\n",
    "        X_test, y_test = test, test.ix[:, -1]\n",
    "        return (X_train, y_train, X_test, y_test)\n",
    "\n",
    "    def bot_prediction_algorithm(df):\n",
    "        # creating copy of dataframe\n",
    "        train_df = df.copy()\n",
    "        \n",
    "        # converting id to int\n",
    "        train_df['id'] = train_df.id.apply(lambda x: int(x))\n",
    "        train_df['user_followers_count'] = train_df.user_followers_count.apply(lambda x: 0 if x=='None' else int(x))\n",
    "        train_df['user_friends_count'] = train_df.user_friends_count.apply(lambda x: 0 if x=='None' else int(x))\n",
    "        train_df['user_verified'] = train_df.user_verified.apply(lambda x: 1 if ((x == True) or x == 'TRUE') else 0)\n",
    "        \n",
    "        #We created two bag of words because more bow is stringent on test data, so on all small dataset we check less\n",
    "       \n",
    "        bag_of_words_bot = r'bot|problems|win|see|rt|im|good|floral|couple|good|unique|win|airborne|adidas|happy|setup|definitely|cloud|million|iridescent|want|hey|baseball|cult|got|floral|shop|smartphone|item|also|join|pdca|leo|wonderingproblems'\n",
    "      \n",
    "\n",
    "        # check if the name contains bot or screenname contains b0t\n",
    "        condition = train_df.user_screen_name.str.contains(bag_of_words_bot, case=False, na=False)# these all are bots\n",
    "        predicted_df = train_df[condition]  # these all are bots\n",
    "        predicted_df.Bot_or_NoBot = 0\n",
    "        predicted_df = predicted_df[['id', 'Bot_or_NoBot']]\n",
    "\n",
    "        # check if the user is verified\n",
    "        verified_df = train_df[~condition]\n",
    "        condition = (verified_df.user_verified == 1)  # these all are nonbots\n",
    "        predicted_df1 = verified_df[condition][['id', 'Bot_or_NoBot']]\n",
    "        predicted_df1.Bot_or_NoBot = 1\n",
    "        predicted_df = pd.concat([predicted_df, predicted_df1])\n",
    "\n",
    "        ls_df = verified_df[~condition]\n",
    "\n",
    "        # check if listed_count>16000\n",
    "        listed_count_df = ls_df[~condition]\n",
    "        listed_count_df.user_listed_count = listed_count_df.user_listed_count.apply(lambda x: 0 if x == 'None' else x)\n",
    "        listed_count_df.user_listed_count = listed_count_df.user_listed_count.apply(lambda x: int(x))\n",
    "        condition = (listed_count_df.user_listed_count > 15000)  # these all are nonbots\n",
    "        predicted_df1 = listed_count_df[condition][['id', 'Bot_or_NoBot']]\n",
    "        predicted_df1.Bot_or_NoBot = 0\n",
    "        predicted_df = pd.concat([predicted_df, predicted_df1])\n",
    "        \n",
    "        #check follower Count\n",
    "        followers_count_df = ls_df[~condition]\n",
    "        condition = (followers_count_df.user_followers_count > 1500)  # these all are nonbots\n",
    "        predicted_df1 = listed_count_df[condition][['id', 'Bot_or_NoBot']]\n",
    "        predicted_df1.Bot_or_NoBot = 1\n",
    "        predicted_df = pd.concat([predicted_df, predicted_df1])\n",
    "        \n",
    "         #check statuscount Count\n",
    "        status_count_df = ls_df[~condition]\n",
    "        condition = (status_count_df.user_statuses_count > 28000)  # these all are bots\n",
    "        predicted_df1 = status_count_df[condition][['id', 'Bot_or_NoBot']]\n",
    "        predicted_df1.Bot_or_NoBot = 0\n",
    "        predicted_df = pd.concat([predicted_df, predicted_df1])\n",
    "\n",
    "        #remaining\n",
    "        predicted_df1 = listed_count_df[~condition][['id', 'Bot_or_NoBot']]\n",
    "        predicted_df1.Bot_or_NoBot = 1 # these all are nonbots\n",
    "        predicted_df = pd.concat([predicted_df, predicted_df1])\n",
    "        return predicted_df\n",
    "\n",
    "    def get_predicted_and_true_values(features, target):\n",
    "        y_pred, y_true = twitter_bot.bot_prediction_algorithm(features).Bot_or_NoBot.tolist(), target.tolist()\n",
    "        return (y_pred, y_true)\n",
    "\n",
    "    def get_accuracy_score(df):\n",
    "        (X_train, y_train, X_test, y_test) = twitter_bot.perform_train_test_split(df)\n",
    "        # predictions on training data\n",
    "        y_pred_train, y_true_train = twitter_bot.get_predicted_and_true_values(X_train, y_train)\n",
    "        train_acc = accuracy_score(y_pred_train, y_true_train)\n",
    "        #predictions on test data\n",
    "        y_pred_test, y_true_test = twitter_bot.get_predicted_and_true_values(X_test, y_test)\n",
    "        test_acc = accuracy_score(y_pred_test, y_true_test)\n",
    "        return (train_acc, test_acc) \n",
    "\n"
   ]
  },
  {
   "cell_type": "code",
   "execution_count": 19,
   "metadata": {
    "collapsed": false
   },
   "outputs": [
    {
     "data": {
      "text/html": [
       "<div>\n",
       "<table border=\"1\" class=\"dataframe\">\n",
       "  <thead>\n",
       "    <tr style=\"text-align: right;\">\n",
       "      <th></th>\n",
       "      <th>Unnamed: 0</th>\n",
       "      <th>id</th>\n",
       "      <th>created_at</th>\n",
       "      <th>user_screen_name</th>\n",
       "      <th>user_followers_count</th>\n",
       "      <th>user_location</th>\n",
       "      <th>user_verified</th>\n",
       "      <th>user_friends_count</th>\n",
       "      <th>user_listed_count</th>\n",
       "      <th>user_favourites_count</th>\n",
       "      <th>user_statuses_count</th>\n",
       "      <th>user_geo_enabled</th>\n",
       "      <th>Hashtags</th>\n",
       "      <th>text</th>\n",
       "      <th>Sentiment</th>\n",
       "      <th>SentimentClass</th>\n",
       "      <th>Bot_or_NoBot</th>\n",
       "    </tr>\n",
       "  </thead>\n",
       "  <tbody>\n",
       "    <tr>\n",
       "      <th>0</th>\n",
       "      <td>0</td>\n",
       "      <td>9.904320e+17</td>\n",
       "      <td>29-04-18 3:26</td>\n",
       "      <td>amith97ba</td>\n",
       "      <td>270</td>\n",
       "      <td>Bangalore, India</td>\n",
       "      <td>False</td>\n",
       "      <td>760</td>\n",
       "      <td>2</td>\n",
       "      <td>9417</td>\n",
       "      <td>11619</td>\n",
       "      <td>False</td>\n",
       "      <td>[]</td>\n",
       "      <td>@airtelindia All your problems to watch Ipl ma...</td>\n",
       "      <td>0.0</td>\n",
       "      <td>Neutral</td>\n",
       "      <td>0</td>\n",
       "    </tr>\n",
       "    <tr>\n",
       "      <th>1</th>\n",
       "      <td>1</td>\n",
       "      <td>9.904310e+17</td>\n",
       "      <td>29-04-18 3:23</td>\n",
       "      <td>ZackREX3</td>\n",
       "      <td>7</td>\n",
       "      <td>New Delhi, India</td>\n",
       "      <td>False</td>\n",
       "      <td>33</td>\n",
       "      <td>0</td>\n",
       "      <td>1203</td>\n",
       "      <td>380</td>\n",
       "      <td>False</td>\n",
       "      <td>[{'indices': [16, 24], 'text': 'iphone8'}, {'i...</td>\n",
       "      <td>@geekyranjit Is #iphone8 or samsung #s8 worth ...</td>\n",
       "      <td>0.3</td>\n",
       "      <td>Positive</td>\n",
       "      <td>1</td>\n",
       "    </tr>\n",
       "    <tr>\n",
       "      <th>2</th>\n",
       "      <td>2</td>\n",
       "      <td>9.904300e+17</td>\n",
       "      <td>29-04-18 3:17</td>\n",
       "      <td>daichi1SOL</td>\n",
       "      <td>471</td>\n",
       "      <td>NaN</td>\n",
       "      <td>False</td>\n",
       "      <td>442</td>\n",
       "      <td>1</td>\n",
       "      <td>2091</td>\n",
       "      <td>1199</td>\n",
       "      <td>True</td>\n",
       "      <td>[]</td>\n",
       "      <td>RT @daichi1SOL: iPhone8📱♦️cool👍👍👍</td>\n",
       "      <td>0.0</td>\n",
       "      <td>Neutral</td>\n",
       "      <td>1</td>\n",
       "    </tr>\n",
       "    <tr>\n",
       "      <th>3</th>\n",
       "      <td>3</td>\n",
       "      <td>9.904300e+17</td>\n",
       "      <td>29-04-18 3:17</td>\n",
       "      <td>ayarie1003</td>\n",
       "      <td>264</td>\n",
       "      <td>NaN</td>\n",
       "      <td>False</td>\n",
       "      <td>251</td>\n",
       "      <td>2</td>\n",
       "      <td>2479</td>\n",
       "      <td>1039</td>\n",
       "      <td>False</td>\n",
       "      <td>[]</td>\n",
       "      <td>@M1jgHuCuFqpzt2S iPhone8</td>\n",
       "      <td>0.0</td>\n",
       "      <td>Neutral</td>\n",
       "      <td>1</td>\n",
       "    </tr>\n",
       "    <tr>\n",
       "      <th>4</th>\n",
       "      <td>4</td>\n",
       "      <td>9.904290e+17</td>\n",
       "      <td>29-04-18 3:15</td>\n",
       "      <td>9_arashi_11</td>\n",
       "      <td>1108</td>\n",
       "      <td>NaN</td>\n",
       "      <td>False</td>\n",
       "      <td>250</td>\n",
       "      <td>69</td>\n",
       "      <td>23392</td>\n",
       "      <td>6028</td>\n",
       "      <td>False</td>\n",
       "      <td>[]</td>\n",
       "      <td>@aiba___nicchi iPhone8</td>\n",
       "      <td>0.0</td>\n",
       "      <td>Neutral</td>\n",
       "      <td>1</td>\n",
       "    </tr>\n",
       "  </tbody>\n",
       "</table>\n",
       "</div>"
      ],
      "text/plain": [
       "   Unnamed: 0            id     created_at user_screen_name  \\\n",
       "0           0  9.904320e+17  29-04-18 3:26        amith97ba   \n",
       "1           1  9.904310e+17  29-04-18 3:23         ZackREX3   \n",
       "2           2  9.904300e+17  29-04-18 3:17       daichi1SOL   \n",
       "3           3  9.904300e+17  29-04-18 3:17       ayarie1003   \n",
       "4           4  9.904290e+17  29-04-18 3:15      9_arashi_11   \n",
       "\n",
       "   user_followers_count     user_location user_verified  user_friends_count  \\\n",
       "0                   270  Bangalore, India         False                 760   \n",
       "1                     7  New Delhi, India         False                  33   \n",
       "2                   471               NaN         False                 442   \n",
       "3                   264               NaN         False                 251   \n",
       "4                  1108               NaN         False                 250   \n",
       "\n",
       "   user_listed_count  user_favourites_count  user_statuses_count  \\\n",
       "0                  2                   9417                11619   \n",
       "1                  0                   1203                  380   \n",
       "2                  1                   2091                 1199   \n",
       "3                  2                   2479                 1039   \n",
       "4                 69                  23392                 6028   \n",
       "\n",
       "  user_geo_enabled                                           Hashtags  \\\n",
       "0            False                                                 []   \n",
       "1            False  [{'indices': [16, 24], 'text': 'iphone8'}, {'i...   \n",
       "2             True                                                 []   \n",
       "3            False                                                 []   \n",
       "4            False                                                 []   \n",
       "\n",
       "                                                text  Sentiment  \\\n",
       "0  @airtelindia All your problems to watch Ipl ma...        0.0   \n",
       "1  @geekyranjit Is #iphone8 or samsung #s8 worth ...        0.3   \n",
       "2                  RT @daichi1SOL: iPhone8📱♦️cool👍👍👍        0.0   \n",
       "3                           @M1jgHuCuFqpzt2S iPhone8        0.0   \n",
       "4                             @aiba___nicchi iPhone8        0.0   \n",
       "\n",
       "  SentimentClass  Bot_or_NoBot  \n",
       "0        Neutral             0  \n",
       "1       Positive             1  \n",
       "2        Neutral             1  \n",
       "3        Neutral             1  \n",
       "4        Neutral             1  "
      ]
     },
     "execution_count": 19,
     "metadata": {},
     "output_type": "execute_result"
    }
   ],
   "source": [
    "train_df = pd.read_csv('outputedited.csv')\n",
    "train_df.head()"
   ]
  },
  {
   "cell_type": "code",
   "execution_count": 20,
   "metadata": {
    "collapsed": false
   },
   "outputs": [
    {
     "name": "stdout",
     "output_type": "stream",
     "text": [
      "Train Accuracy:  0.5538922155688623\n",
      "Test Accuracy:  0.48695652173913045\n"
     ]
    }
   ],
   "source": [
    "\n",
    "\n",
    "print(\"Train Accuracy: \", twitter_bot.get_accuracy_score(train_df)[0])\n",
    "print(\"Test Accuracy: \", twitter_bot.get_accuracy_score(train_df)[1])"
   ]
  },
  {
   "cell_type": "markdown",
   "metadata": {},
   "source": [
    "# Model Comparision"
   ]
  },
  {
   "cell_type": "markdown",
   "metadata": {},
   "source": [
    "### Model Name                          Accuracy\n",
    "\n",
    "Support Vector Machine               66.23%\n",
    "\"RBF\" Kernel\n",
    "\n",
    "Random Forest Classifier             63.98%\n",
    "\n",
    "\n",
    "Gradient Boosting Classifier         69.45%\n",
    "\n",
    "\n",
    "Neural Network                       60.12%\n",
    "\n",
    "\n",
    "ADA Boost Classifier                 70.41%\n",
    "\n",
    "\n",
    "Bag of Words                         48.97%\n",
    "\n",
    "From the above table we can conclude that all are models are performing better than our base line accuracy."
   ]
  },
  {
   "cell_type": "markdown",
   "metadata": {},
   "source": [
    "References:\n",
    "https://developer.twitter.com/en/docs/tweets/data-dictionary/overview/user-object\n",
    "https://beebom.com/how-to-identify-twitter-bots/\n",
    "https://www.kdnuggets.com/2015/11/bot-not-data-analysis-python.html/2\n",
    "https://arxiv.org/ftp/arxiv/papers/1601/1601.05140.pdf\n",
    "https://medium.com/@justinzcai/using-machine-learning-to-analyze-twitter-for-real-time-influenza-surveillance-585981462eac\n",
    "https://arxiv.org/pdf/1610.09225.pdf\n",
    "http://jpdickerson.com/pubs/dickerson14using.pdf\n",
    "https://developer.twitter.com/en/docs/tweets/data-dictionary/overview/user-object\n",
    "https://paulvanderlaken.com/2018/03/17/identifying-dirty-twitter-bots-with-r-and-python/"
   ]
  },
  {
   "cell_type": "code",
   "execution_count": null,
   "metadata": {
    "collapsed": true
   },
   "outputs": [],
   "source": []
  }
 ],
 "metadata": {
  "kernelspec": {
   "display_name": "Python 3",
   "language": "python",
   "name": "python3"
  },
  "language_info": {
   "codemirror_mode": {
    "name": "ipython",
    "version": 3
   },
   "file_extension": ".py",
   "mimetype": "text/x-python",
   "name": "python",
   "nbconvert_exporter": "python",
   "pygments_lexer": "ipython3",
   "version": "3.5.4"
  }
 },
 "nbformat": 4,
 "nbformat_minor": 2
}
